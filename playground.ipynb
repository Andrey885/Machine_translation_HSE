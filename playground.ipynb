{
 "cells": [
  {
   "cell_type": "code",
   "execution_count": 4,
   "metadata": {},
   "outputs": [],
   "source": [
    "import numpy as np\n",
    "import matplotlib.pyplot as plt\n",
    "import pandas as pd\n",
    "import os\n",
    "import torch\n",
    "from torchtext.datasets import Multi30k"
   ]
  },
  {
   "cell_type": "code",
   "execution_count": 3,
   "metadata": {},
   "outputs": [
    {
     "name": "stdout",
     "output_type": "stream",
     "text": [
      "Collecting torchtext\n",
      "  Downloading https://files.pythonhosted.org/packages/79/ef/54b8da26f37787f5c670ae2199329e7dccf195c060b25628d99e587dac51/torchtext-0.5.0-py3-none-any.whl (73kB)\n",
      "Requirement already satisfied: torch in c:\\users\\asshi\\appdata\\local\\programs\\python\\python37\\lib\\site-packages (from torchtext) (1.2.0+cpu)\n",
      "Requirement already satisfied: requests in c:\\users\\asshi\\appdata\\local\\programs\\python\\python37\\lib\\site-packages (from torchtext) (2.22.0)\n",
      "Requirement already satisfied: six in c:\\users\\asshi\\appdata\\local\\programs\\python\\python37\\lib\\site-packages (from torchtext) (1.12.0)\n",
      "Requirement already satisfied: numpy in c:\\users\\asshi\\appdata\\local\\programs\\python\\python37\\lib\\site-packages (from torchtext) (1.17.0)\n",
      "Collecting sentencepiece\n",
      "  Downloading https://files.pythonhosted.org/packages/61/c5/e7e2f45c076097ac1a58b21288be25ae4eb4044be899e6c04cd897a00f15/sentencepiece-0.1.85-cp37-cp37m-win_amd64.whl (1.2MB)\n",
      "Requirement already satisfied: tqdm in c:\\users\\asshi\\appdata\\local\\programs\\python\\python37\\lib\\site-packages (from torchtext) (4.33.0)\n",
      "Requirement already satisfied: urllib3!=1.25.0,!=1.25.1,<1.26,>=1.21.1 in c:\\users\\asshi\\appdata\\local\\programs\\python\\python37\\lib\\site-packages (from requests->torchtext) (1.25.7)\n",
      "Requirement already satisfied: chardet<3.1.0,>=3.0.2 in c:\\users\\asshi\\appdata\\local\\programs\\python\\python37\\lib\\site-packages (from requests->torchtext) (3.0.4)\n",
      "Requirement already satisfied: idna<2.9,>=2.5 in c:\\users\\asshi\\appdata\\local\\programs\\python\\python37\\lib\\site-packages (from requests->torchtext) (2.8)\n",
      "Requirement already satisfied: certifi>=2017.4.17 in c:\\users\\asshi\\appdata\\local\\programs\\python\\python37\\lib\\site-packages (from requests->torchtext) (2019.11.28)\n",
      "Installing collected packages: sentencepiece, torchtext\n",
      "Successfully installed sentencepiece-0.1.85 torchtext-0.5.0\n"
     ]
    }
   ],
   "source": []
  },
  {
   "cell_type": "code",
   "execution_count": null,
   "metadata": {},
   "outputs": [],
   "source": []
  }
 ],
 "metadata": {
  "kernelspec": {
   "display_name": "Python 3",
   "language": "python",
   "name": "python3"
  },
  "language_info": {
   "codemirror_mode": {
    "name": "ipython",
    "version": 3
   },
   "file_extension": ".py",
   "mimetype": "text/x-python",
   "name": "python",
   "nbconvert_exporter": "python",
   "pygments_lexer": "ipython3",
   "version": "3.7.4"
  }
 },
 "nbformat": 4,
 "nbformat_minor": 2
}
